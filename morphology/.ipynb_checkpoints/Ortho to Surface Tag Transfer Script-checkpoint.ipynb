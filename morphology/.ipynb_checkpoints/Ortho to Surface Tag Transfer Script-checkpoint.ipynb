{
 "cells": [
  {
   "cell_type": "code",
   "execution_count": 250,
   "metadata": {},
   "outputs": [],
   "source": [
    "import Levenshtein as LevenshteinDistance"
   ]
  },
  {
   "cell_type": "code",
   "execution_count": 251,
   "metadata": {},
   "outputs": [
    {
     "name": "stdout",
     "output_type": "stream",
     "text": [
      "Start word:  nga-i-n-hloso\n",
      "Start labels:  ['AdvPre', 'NPrePre', 'BPre', 'NStem']\n",
      "('delete', 2, 2)\n",
      "['ng', 'i', 'n', 'hloso'] ['AdvPre', 'NPrePre', 'BPre', 'NStem']\n",
      "('delete', 3, 2)\n",
      "EDGE CASE, NEED TO SORT THIS OUT!😬⏰\n",
      "['ngi', 'n', 'hloso'] ['AdvPre', 'NPrePre', 'BPre', 'NStem']\n",
      "('replace', 4, 2)\n",
      "['nge', 'n', 'hloso'] ['AdvPre', 'NPrePre', 'BPre', 'NStem']\n"
     ]
    }
   ],
   "source": [
    "surface_segmented = 'nge-n-hloso'\n",
    "orthographic_segmented = 'nga-i-n-hloso'\n",
    "labels = ['AdvPre', 'NPrePre', 'BPre','NStem']\n",
    "editops = LevenshteinDistance.editops(orthographic_segmented, surface_segmented)\n",
    "\n",
    "source = [w for w in orthographic_segmented]\n",
    "outputword = [w for w in orthographic_segmented]\n",
    "destination = [w for w in surface_segmented]\n",
    "print('Start word: ', orthographic_segmented)\n",
    "print('Start labels: ', labels)\n",
    "\n",
    "## loops through edit ops (del, ins, rep) and tracks each step in the edit process\n",
    "for edit in editops:\n",
    "    print(edit)\n",
    "    if edit[0] == 'delete':\n",
    "        if outputword[edit[1]] == '-': print('EDGE CASE, NEED TO SORT THIS OUT!😬⏰')\n",
    "        outputword[edit[1]] = '*' \n",
    "    if edit[0] == 'replace':\n",
    "        outputword[edit[1]] = destination[edit[2]]\n",
    "    if edit[0] == 'insert':\n",
    "        outputword.insert(edit[2], destination[edit[1]])\n",
    "    \n",
    "    segmentedArray = printSegments(outputword)\n",
    "    for i, segment in enumerate(segmentedArray):\n",
    "        if (segment=='' and i==0):\n",
    "            print('Occurs at beginning')\n",
    "            del labels[0]\n",
    "        elif segment=='':\n",
    "            print('Occurs in middle')\n",
    "            label = labels[i]\n",
    "            labels[i-1] = labels[i-1]+'/'+label\n",
    "            del labels[i]\n",
    "    print(segmentedArray ,labels)"
   ]
  },
  {
   "cell_type": "markdown",
   "metadata": {},
   "source": [
    "In the case of: <b><i>'nga-i-n-hloso'</i></b> ==> <b><i>'nge-n-hloso'</i></b>\n",
    "\n",
    "\n",
    "Start: nga-i-n-hloso     ['AdvPre', 'NPrePre', 'BPre','NStem']<br><br>\n",
    "1: ng-i-n-hloso  Delete (a)  ['AdvPre', 'NPrePre', 'BPre','NStem']<br><br>\n",
    "2: ngi-n-hloso   <b>Delete (-)</b>   ['AdvPre/'NPrePre', 'BPre','NStem'] ‼️<br><br>\n",
    "3: nge-n-hloso  Replace (i=>e)   ['AdvPre/'NPrePre', 'BPre','NStem']<br><br>\n",
    "Final: nge[AdvPre/NPrePre]-n[BPre-hloso]-hloso[NStem]  <br><br>"
   ]
  },
  {
   "cell_type": "code",
   "execution_count": 252,
   "metadata": {},
   "outputs": [],
   "source": [
    "## turns a the array with characters and delete characters (denoted by a *) into a word string\n",
    "def arrToWord(word):\n",
    "    finalword = ''\n",
    "    for w in outputword:\n",
    "        if w=='*':\n",
    "            pass\n",
    "        else:\n",
    "            finalword += w\n",
    "    return finalword"
   ]
  },
  {
   "cell_type": "code",
   "execution_count": 253,
   "metadata": {},
   "outputs": [],
   "source": [
    "## prints each segment in an array format seperated by '-'\n",
    "def printSegments(word):\n",
    "    outword = arrToWord(word)\n",
    "    finalword = outword.split('-')\n",
    "    return finalword"
   ]
  },
  {
   "cell_type": "code",
   "execution_count": 254,
   "metadata": {},
   "outputs": [],
   "source": [
    "\"\"\"functions which I never ended up using but I typed them out \n",
    "from a photo I took so im just gonna keep them here for future reference \"\"\"\n",
    "def insert(source, insert_str, pos):\n",
    "    return source[:pos] +insert_str+source[pos:]\n",
    "\n",
    "def delete(source, index):\n",
    "    return source[:index] + source[index+1:]\n",
    "\n",
    "def replace(source, replacement, index):\n",
    "    return \"%s%s%s\" % (source[:index], replacement, source[index+1:])"
   ]
  }
 ],
 "metadata": {
  "kernelspec": {
   "display_name": "Python 3",
   "language": "python",
   "name": "python3"
  },
  "language_info": {
   "codemirror_mode": {
    "name": "ipython",
    "version": 3
   },
   "file_extension": ".py",
   "mimetype": "text/x-python",
   "name": "python",
   "nbconvert_exporter": "python",
   "pygments_lexer": "ipython3",
   "version": "3.7.3"
  }
 },
 "nbformat": 4,
 "nbformat_minor": 2
}
