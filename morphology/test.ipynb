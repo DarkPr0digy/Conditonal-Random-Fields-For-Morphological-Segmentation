{
 "cells": [
  {
   "cell_type": "code",
   "metadata": {
    "collapsed": true,
    "pycharm": {
     "name": "#%%\n"
    }
   },
   "source": [
    "import Levenshtein as LevenshteinDistance\n",
    "#wolwazi | wo-lw-az-i | u[SC3]yo[Fut]lu[OC11]az[VRoot]i[VerbTerm]\n",
    "word = 'wolwazi'\n",
    "surface_segmented = 'wo-lw-az-i'\n",
    "orthographic_segmented = 'u-yo-lu-az-i'\n",
    "labels = ['SC3','Fut','OC11','VRoot','VerbTerm']\n",
    "editops = LevenshteinDistance.editops(orthographic_segmented, surface_segmented)\n",
    "print(y)"
   ],
   "execution_count": 7,
   "outputs": [
    {
     "name": "stdout",
     "output_type": "stream",
     "text": [
      "[('insert', 0, 0), ('insert', 0, 1), ('replace', 0, 2), ('replace', 4, 6)]\n",
      "[('delete', 0, 0), ('delete', 1, 0), ('replace', 2, 0), ('replace', 6, 4)]\n"
     ]
    }
   ]
  },
  {
   "cell_type": "markdown",
   "source": [
    "2nd way<br>\n",
    "0: u-yo-lu-az-i     ['SC3','Fut','OC11','VRoot','VerbTerm']<br>\n",
    "1: -yo-lu-az-i  D   ['Fut','OC11','VRoot','VerbTerm']<br>\n",
    "2: yo-lu-az-i   D   ['Fut','OC11','VRoot','VerbTerm']<br>\n",
    "3: wo-lu-az-i   R   ['Fut','OC11','VRoot','VerbTerm']<br>\n",
    "4: wo-lw-az-i   R   ['Fut','OC11','VRoot','VerbTerm']<br>"
   ],
   "metadata": {
    "collapsed": false
   }
  },
  {
   "cell_type": "code",
   "execution_count": null,
   "outputs": [],
   "source": [
    "deleted_labels = []\n",
    "insertion_offset = 0\n",
    "deletion_offst = 0\n",
    "dash_pos = [pos for pos in range(len(orthographic_segmented)) if orthographic_segmented[pos] == '-']\n",
    "\n",
    "for edit in editops:\n",
    "    pos = edit[1]\n",
    "    if edit[0] == 'delete':\n",
    "        label_pos = 0\n",
    "        for x in dash_pos:\n",
    "            if pos > x:\n",
    "                label_pos += 1\n",
    "        try:\n",
    "            lone = pos == 0 or orthographic_segmented[pos-1] == '-' and orthographic_segmented[pos+1] == '-'\n",
    "        except IndexError:\n",
    "            continue\n",
    "        del orthographic_segmented[pos-deletion_offst]\n",
    "        if lone:\n",
    "            # find out where the segment is\n",
    "            tmp = labels[label_pos]\n",
    "            del labels[label_pos]\n",
    "            labels[label_pos] += \", \"+tmp\n",
    "        deletion_offst += 1\n",
    "        # Delete Operations\n",
    "    elif edit[0] == 'replace':\n",
    "        label_pos = 0\n",
    "        for x in dash_pos:\n",
    "            if pos > x:\n",
    "                label_pos += 1\n",
    "        try:\n",
    "            lone = pos == 0 or orthographic_segmented[pos-1] == '-' and orthographic_segmented[pos+1] == '-'\n",
    "        except IndexError:\n",
    "            continue\n",
    "        if lone:\n",
    "            tmp = labels[label_pos]\n",
    "            del labels[label_pos]\n",
    "            labels[label_pos] += \", \"+tmp\n",
    "    elif edit[0] == 'insert':\n",
    "        label_pos = 0\n",
    "        for x in dash_pos:\n",
    "            if pos > x:\n",
    "                label_pos += 1\n",
    "        try:\n",
    "            lone = pos == 0 or orthographic_segmented[pos-1] == '-' and orthographic_segmented[pos+1] == '-'\n",
    "        except IndexError:\n",
    "            continue\n",
    "        if lone:\n",
    "            tmp = labels[label_pos]\n",
    "            del labels[label_pos]\n",
    "            labels[label_pos] += \", \"+tmp"
   ],
   "metadata": {
    "collapsed": false,
    "pycharm": {
     "name": "#%%\n"
    }
   }
  },
  {
   "cell_type": "markdown",
   "source": [
    "ngengezinkonzo | nge-zin-konzo| nge[NPre]zin[NPrePre]konzo[BPre] | nga[NPre]i[NPrePre]zin[BPre]konzo[NStem]\n"
   ],
   "metadata": {
    "collapsed": false
   }
  },
  {
   "cell_type": "code",
   "execution_count": 10,
   "outputs": [
    {
     "name": "stdout",
     "output_type": "stream",
     "text": [
      "[('delete', 2, 2), ('delete', 3, 2), ('replace', 4, 2)]\n"
     ]
    }
   ],
   "source": [
    "surface_segmented = 'nge-zin-konzo'\n",
    "orthographic_segmented = 'nga-i-zin-konzo'\n",
    "labels = ['NPre','NPrePre','BPre','NStem']\n",
    "y = LevenshteinDistance.editops(orthographic_segmented, surface_segmented)\n",
    "print(y)"
   ],
   "metadata": {
    "collapsed": false,
    "pycharm": {
     "name": "#%%\n"
    }
   }
  },
  {
   "cell_type": "markdown",
   "source": [
    "Segmentation<br>\n",
    "0: nga-i-zin-konzo<br>\n",
    "1: ng-i-zin-konzo   (delete,2,2)    ['NPre','NPrePre','BPre','NStem']<br>\n",
    "2: ngi-zin-konzo    (delete,3,2)    ['NPre, NPrePre','BPre','NStem']<br>\n",
    "3: nge-zin-konzo    (replace,4,2)   ['NPre, NPrePre','BPre','NStem']<br>\n",
    "\n",
    "#if I delete a '-' do segment deletion protocol"
   ],
   "metadata": {
    "collapsed": false
   }
  },
  {
   "cell_type": "code",
   "execution_count": 13,
   "outputs": [
    {
     "name": "stdout",
     "output_type": "stream",
     "text": [
      "[('delete', 0, 0), ('delete', 1, 0), ('delete', 2, 0)]\n"
     ]
    }
   ],
   "source": [
    "surface_segmented = 'se-lu-pheth-iw-e'\n",
    "orthographic_segmented = 'lu-se-lu-pheth-iw-e'\n",
    "labels = ['SC11','AuxVStem','SC11','VRoot','PassExt','VerbTermPerf']\n",
    "y = LevenshteinDistance.editops(orthographic_segmented, surface_segmented)\n",
    "print(y)"
   ],
   "metadata": {
    "collapsed": false,
    "pycharm": {
     "name": "#%%\n"
    }
   }
  },
  {
   "cell_type": "markdown",
   "source": [
    "0: lu-sel-lu-pheth-iw-e<br>\n",
    "1: u-sel-lu-pheth-iw-e  (delete,0,0)    ['SC11', 'AuxVStem', 'SC11', 'VRoot','PassExt','VerbTermPerf']<br>\n",
    "2: -sel-lu-pheth-iw-e   (delete,1,0)    ['SC11', 'AuxVStem', 'SC11', 'VRoot','PassExt','VerbTermPerf']<br>\n",
    "3: sel-lu-pheth-iw-e    (delete,2,0)    ['AuxVStem', 'SC11', 'VRoot', 'PassExt', 'VerbTermPerf']<br>"
   ],
   "metadata": {
    "collapsed": false
   }
  },
  {
   "cell_type": "code",
   "execution_count": 12,
   "outputs": [
    {
     "name": "stdout",
     "output_type": "stream",
     "text": [
      "[('delete', 3, 3), ('delete', 4, 3)]\n"
     ]
    }
   ],
   "source": [
    "surface_segmented = 'wu-ku-thol-akal-a'\n",
    "orthographic_segmented = 'wu-u-ku-thol-akal-a'\n",
    "labels = ['CopPre','NPrePre15','BPre15','VRoot','NeutExt','VerbTerm']\n",
    "y = LevenshteinDistance.editops(orthographic_segmented, surface_segmented)\n",
    "print(y)"
   ],
   "metadata": {
    "collapsed": false,
    "pycharm": {
     "name": "#%%\n"
    }
   }
  },
  {
   "cell_type": "markdown",
   "source": [
    "0: wu-u-ku-thol-akal-a<br>\n",
    "1: wu--ku-thol-akal-a   (delete, 3, 3)  ['CopPre','NPrePre15','BPre15','VRoot','NeutExt','VerbTerm']<br>\n",
    "2: wu-ku-thol-akal-a    (delete, 4, 3)  ['CopPre, NPrePre15','BPre15','VRoot','NeutExt','VerbTerm']<br>"
   ],
   "metadata": {
    "collapsed": false
   }
  }
 ],
 "metadata": {
  "kernelspec": {
   "display_name": "Python 3",
   "language": "python",
   "name": "python3"
  },
  "language_info": {
   "codemirror_mode": {
    "name": "ipython",
    "version": 2
   },
   "file_extension": ".py",
   "mimetype": "text/x-python",
   "name": "python",
   "nbconvert_exporter": "python",
   "pygments_lexer": "ipython2",
   "version": "2.7.6"
  }
 },
 "nbformat": 4,
 "nbformat_minor": 0
}