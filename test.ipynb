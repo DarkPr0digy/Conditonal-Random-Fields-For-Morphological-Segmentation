{
 "cells": [
  {
   "cell_type": "code",
   "execution_count": null,
   "outputs": [],
   "source": [
    "Segments: ['i', 'fomu']\n",
    "Labels: ['NPrePre5|BPre5', 'NStem']\n",
    "[list([14]) list([817, 47, 9, 44])]\n",
    "\n",
    "sent_tensor = np.asarray([self.preprocessor.sent_to_vector(s) for s in sentences])\n",
    "     33             print(sent_tensor)\n",
    "---> 34             sent_tensor = torch.from_numpy(sent_tensor).to(self.device)\n",
    "     35             with torch.no_grad():\n",
    "     36                 _, tags = self.model(sent_tensor)\n",
    "\n",
    "TypeError: can't convert np.ndarray of type numpy.object_. The only supported types are: float64, float32, float16, complex64, complex128, int64, int32, int16, int8, uint8, and bool."
   ],
   "metadata": {
    "collapsed": false,
    "pycharm": {
     "name": "#%%"
    }
   }
  }
 ],
 "metadata": {
  "kernelspec": {
   "display_name": "Python 3",
   "language": "python",
   "name": "python3"
  },
  "language_info": {
   "codemirror_mode": {
    "name": "ipython",
    "version": 2
   },
   "file_extension": ".py",
   "mimetype": "text/x-python",
   "name": "python",
   "nbconvert_exporter": "python",
   "pygments_lexer": "ipython2",
   "version": "2.7.6"
  }
 },
 "nbformat": 4,
 "nbformat_minor": 0
}